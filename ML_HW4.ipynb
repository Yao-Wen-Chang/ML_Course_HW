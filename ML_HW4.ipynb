{
 "cells": [
  {
   "cell_type": "markdown",
   "metadata": {},
   "source": [
    "1. 讀入資料，並判斷出那些數據格式不是數字，或是有缺失值。\n",
    "2. 將非數字類型的資料進行編碼。\n",
    "3. 填補缺失值。"
   ]
  },
  {
   "cell_type": "code",
   "execution_count": 38,
   "metadata": {},
   "outputs": [
    {
     "name": "stdout",
     "output_type": "stream",
     "text": [
      "0       1\n",
      "1       1\n",
      "2       1\n",
      "3       1\n",
      "4       1\n",
      "5       1\n",
      "6       1\n",
      "7       1\n",
      "8       1\n",
      "9       1\n",
      "10      1\n",
      "11      1\n",
      "12      1\n",
      "13      1\n",
      "14      1\n",
      "15      1\n",
      "16      1\n",
      "17      1\n",
      "18      1\n",
      "19      1\n",
      "20      1\n",
      "21      0\n",
      "22      1\n",
      "23      1\n",
      "24      1\n",
      "25      1\n",
      "26      1\n",
      "27      1\n",
      "28      1\n",
      "29      1\n",
      "       ..\n",
      "1430    1\n",
      "1431    1\n",
      "1432    0\n",
      "1433    1\n",
      "1434    1\n",
      "1435    1\n",
      "1436    1\n",
      "1437    1\n",
      "1438    1\n",
      "1439    1\n",
      "1440    1\n",
      "1441    1\n",
      "1442    1\n",
      "1443    1\n",
      "1444    1\n",
      "1445    1\n",
      "1446    1\n",
      "1447    1\n",
      "1448    1\n",
      "1449    1\n",
      "1450    1\n",
      "1451    1\n",
      "1452    1\n",
      "1453    1\n",
      "1454    2\n",
      "1455    1\n",
      "1456    1\n",
      "1457    1\n",
      "1458    1\n",
      "1459    1\n",
      "Name: Alley, Length: 1460, dtype: object\n"
     ]
    }
   ],
   "source": [
    "import pandas as pd\n",
    "import numpy as np\n",
    "from sklearn.preprocessing import LabelEncoder\n",
    "\n",
    "\n",
    "\n",
    "    \n",
    "inputData = pd.read_csv(\"HW4_house-prices.csv\")\n",
    "inputDataCopy = inputData.copy()\n",
    "textData = inputDataCopy.select_dtypes(include='object')\n",
    "numericData = inputDataCopy.drop(textData.keys(), axis=1)\n",
    "\n",
    "for key in textData.keys():\n",
    "    inputData[key].fillna(\"No Data\", inplace=True) # fill with blank \n",
    "  \n",
    "for key in numericData.keys():\n",
    "    median = inputData[key].median()\n",
    "    inputData[key].fillna(median, inplace=True) # fill with median number\n",
    "\n",
    "\n",
    "inputDataEncode = inputData[textData.keys()].apply(LabelEncoder().fit_transform)\n",
    "inputData.update(inputDataEncode)\n",
    "print(inputData[\"Alley\"])\n"
   ]
  },
  {
   "cell_type": "markdown",
   "metadata": {},
   "source": [
    "4. 將資料切割成訓練集 70%，預測集 30%。分別使用 Linear、Ridge、及 Lasso 三種 regression 模型預測 Rating，並使用 MSE（Mean-Squared-Error）作為預測準確度的指標。比較那一種模型較佳。"
   ]
  },
  {
   "cell_type": "code",
   "execution_count": 39,
   "metadata": {
    "scrolled": false
   },
   "outputs": [
    {
     "name": "stdout",
     "output_type": "stream",
     "text": [
      "Best Model: linearMse\n"
     ]
    },
    {
     "name": "stderr",
     "output_type": "stream",
     "text": [
      "C:\\Users\\BV\\Anaconda3\\lib\\site-packages\\sklearn\\linear_model\\coordinate_descent.py:492: ConvergenceWarning: Objective did not converge. You might want to increase the number of iterations. Fitting data with very small alpha may cause precision problems.\n",
      "  ConvergenceWarning)\n"
     ]
    }
   ],
   "source": [
    "from sklearn.metrics import mean_squared_error\n",
    "from sklearn import linear_model\n",
    "from sklearn.model_selection import train_test_split\n",
    "\n",
    "def trainPredictData(regModel):\n",
    "    regModel.fit(trainData, trainLabel)\n",
    "    prediction = linearReg.predict(trainData)\n",
    "    linearMse = mean_squared_error(trainLabel, prediction)\n",
    "    return linearMse\n",
    "\n",
    "\n",
    "label = inputData[\"SalePrice\"]\n",
    "data = inputData.drop(\"SalePrice\", axis=1)\n",
    "trainData, testData, trainLabel, testLabel = train_test_split(data, label, test_size=0.3, random_state=42)\n",
    "linearReg = linear_model.LinearRegression()\n",
    "linearMse = trainPredictData(linearReg)\n",
    "ridgeReg = linear_model.Ridge()\n",
    "ridgeMse = trainPredictData(ridgeReg)\n",
    "lassoReg = linear_model.Lasso()\n",
    "lassoMse = trainPredictData(lassoReg)\n",
    "# not yet get ratting\n",
    "\n",
    "threeModeMseDict = {\"linearMse\": linearMse, \"ridgeMse\": ridgeMse, \"lassoMse\": lassoMse}\n",
    "smallestMse = min(linearMse, ridgeMse, lassoMse)\n",
    "\n",
    "key = [key for key, value in threeModeMseDict.items() if value == smallestMse]\n",
    "print(\"Best Model: \" + key[0])\n",
    "\n"
   ]
  },
  {
   "cell_type": "markdown",
   "metadata": {},
   "source": [
    "5. 依據最佳結果的模型，對預測集資料繪製出預測房價 vs 實際房價 之散佈(scatter plot)圖"
   ]
  },
  {
   "cell_type": "code",
   "execution_count": 41,
   "metadata": {
    "scrolled": true
   },
   "outputs": [
    {
     "data": {
      "image/png": "[encoded data removed]",
      "text/plain": [
       "<Figure size 432x288 with 1 Axes>"
      ]
     },
     "metadata": {
      "needs_background": "light"
     },
     "output_type": "display_data"
    }
   ],
   "source": [
    "import matplotlib.pyplot as plt\n",
    "figure = plt.figure()\n",
    "axis = figure.add_subplot(111)\n",
    "price = axis.scatter(trainLabel, prediction, c = 'blue')\n",
    "\n",
    "plt.xlabel(\"Prediction Price\")\n",
    "plt.ylabel(\"Actual Sale Price\")\n",
    "\n",
    "plt.show()"
   ]
  },
  {
   "cell_type": "markdown",
   "metadata": {},
   "source": [
    "6. 比較將特徵值進行標準化前處理後之預測準確度"
   ]
  },
  {
   "cell_type": "code",
   "execution_count": null,
   "metadata": {},
   "outputs": [],
   "source": [
    "from sklearn.metrics import precision_score"
   ]
  }
 ],
 "metadata": {
  "kernelspec": {
   "display_name": "Python 3",
   "language": "python",
   "name": "python3"
  }
 },
 "nbformat": 4,
 "nbformat_minor": 4
}
