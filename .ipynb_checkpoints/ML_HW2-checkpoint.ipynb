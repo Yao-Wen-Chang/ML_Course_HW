{
 "cells": [
  {
   "cell_type": "code",
   "execution_count": 24,
   "metadata": {},
   "outputs": [],
   "source": [
    "import pandas as pd\n",
    "import numpy as np\n",
    "df = pd.read_csv(\"HW2_data.csv\")\n",
    "df = df.sort_values(by = ['0'])\n",
    "dataList = df.values.tolist()\n",
    "attributeList = [\"Name\", \"Sex\", \"Age\", \"HR\", \"Height\", \"Weight\", \"BP\"]\n",
    "dataDictionary = {\"Name\": [], \"Sex\": [], \"Age\": [], \"HR\": [], \"Height\": [], \"Weight\": [], \"BP\": []}\n",
    "\n",
    "for i in range(len(dataList)):\n",
    "    if i == 0:\n",
    "        continue\n",
    "    name = dataList[i][0]  \n",
    "    attribute = dataList[i][1]\n",
    "    value = dataList[i][2]\n",
    "    if name in dataDictionary[\"Name\"]:\n",
    "        dataDictionary[attribute].append(value)\n",
    "    else:\n",
    "        lengthOfIndex = len(dataDictionary[\"Name\"]) \n",
    "        for key in attributeList:\n",
    "            if len(dataDictionary[key]) == lengthOfIndex:\n",
    "                continue\n",
    "            else:\n",
    "                dataDictionary[key].append(None)\n",
    "        dataDictionary[\"Name\"].append(name) \n",
    "        dataDictionary[attribute].append(value)\n",
    "dataFrame = pd.DataFrame.from_dict(dataDictionary, orient = \"index\") \n",
    "dataFrame = dataFrame.transpose()\n",
    "dataFrame = dataFrame.fillna(value=np.nan)\n",
    "        "
   ]
  },
  {
   "cell_type": "code",
   "execution_count": 27,
   "metadata": {},
   "outputs": [
    {
     "name": "stdout",
     "output_type": "stream",
     "text": [
      "           Name  Sex  Age   HR Height Weight   BP\n",
      "0       Abigail    F   46   87    NaN     56  119\n",
      "1         Aiden    M   38   93    166     69  136\n",
      "2     Alexander    M   43   66    171     62  124\n",
      "3        Amelia    F   66  NaN    151     49  119\n",
      "4          Aria    F   55   81    170     59  127\n",
      "5           Ava    F   70   66    165     63  NaN\n",
      "6         Avery    F   66   72    159     54  121\n",
      "7      Benjamin    M   39   72    164     68  122\n",
      "8        Camila    F   44  NaN    166     46  134\n",
      "9     Charlotte    F   65   82    NaN    NaN   92\n",
      "10        Chloe    F   70   81    174     66   93\n",
      "11       Daniel    M   37   80    165     72  131\n",
      "12       Elijah    M   30   64    177     73  137\n",
      "13    Elizabeth    F   43   84    163     56   98\n",
      "14         Ella    F   10   80    168     67  137\n",
      "15        Emily    F   52   84    166     46   98\n",
      "16         Emma    F   35   61    159     64  137\n",
      "17        Ethan    M   12   86    167     61  103\n",
      "18       Evelyn    F   60   67    168     60  106\n",
      "19        Grace    F   15   91    172     64  134\n",
      "20       Harper    F   36   60    174     53  121\n",
      "21        Henry    M   70   81    179     63  130\n",
      "22     Isabella    F   31   82    151     51   94\n",
      "23      Jackson    M   46   81    170     64   97\n",
      "24        Jacob    M   13   89    183     76  147\n",
      "25        James    M   65   67    NaN    NaN  124\n",
      "26       Joseph    M   42  NaN    168     70  110\n",
      "27        Layla    F   12   87    156     47  142\n",
      "28         Liam    M   45   94    172     62  141\n",
      "29      Lillian    F   66   64    158     59   91\n",
      "30        Logan    M   62   87    177     76  NaN\n",
      "31        Lucas    M   39  NaN    171     64  148\n",
      "32      Madison    F   74   80    NaN    NaN  NaN\n",
      "33        Mason    M   37  NaN    186     76  134\n",
      "34      Matthew    M   69   85    166     70  128\n",
      "35          Mia    F   60   90    171     60  127\n",
      "36      Michael    M   13   79    163     65  NaN\n",
      "37         Mila    F   48  NaN    164     48  139\n",
      "38         Noah    M   30   77    181     68  NaN\n",
      "39         Nora    F   48   82    153     59   93\n",
      "40       Oliver    M   45   62    184     66  139\n",
      "41       Olivia    F   51   92    152     52  100\n",
      "42     Penelope    F   47  NaN    174     61  134\n",
      "43        Riley    F   26   78    NaN    NaN  139\n",
      "44     Scarlett    F   60   74    154     64  107\n",
      "45        Sofia    F   58   79    171     59  131\n",
      "46       Sophia    F   66   62    168     49  144\n",
      "47     Victoria    F   62   65    NaN    NaN   96\n",
      "48      William    M   38   86    174     73  119\n",
      "49         Zoey    F   37   79    NaN    NaN  112\n",
      "mean        NaN  NaN  NaN  NaN    NaN    NaN  NaN\n"
     ]
    }
   ],
   "source": [
    "dataFrame.loc['mean'] = dataFrame[[\"Age\", \"HR\", \"Height\", \"Weight\", \"BP\"]].mean()\n",
    "print(dataFrame)"
   ]
  },
  {
   "cell_type": "code",
   "execution_count": null,
   "metadata": {},
   "outputs": [],
   "source": []
  }
 ],
 "metadata": {
  "kernelspec": {
   "display_name": "Python 3",
   "language": "python",
   "name": "python3"
  },
  "language_info": {
   "codemirror_mode": {
    "name": "ipython",
    "version": 3
   },
   "file_extension": ".py",
   "mimetype": "text/x-python",
   "name": "python",
   "nbconvert_exporter": "python",
   "pygments_lexer": "ipython3",
   "version": "3.7.3"
  }
 },
 "nbformat": 4,
 "nbformat_minor": 2
}
